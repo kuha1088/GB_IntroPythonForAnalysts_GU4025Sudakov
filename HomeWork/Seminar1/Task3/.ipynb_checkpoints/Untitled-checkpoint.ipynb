{
 "cells": [
  {
   "cell_type": "markdown",
   "id": "24581212",
   "metadata": {},
   "source": [
    "## Task3\n",
    "Даны два списка. \n",
    "  \n",
    "Дата покупки:  \n",
    "['2021-09-14', '2021-12-15', '2021-09-08', '2021-12-05', '2021-10-09', '2021-09-30', '2021-12-22', '2021-11-29', '2021-12-24', '2021-11-26', '2021-10-27', '2021-12-18', '2021-11-09', '2021-11-23', '2021-09-27',\n",
    "'2021-10-02', '2021-12-27', '2021-09-20', '2021-12-13', '2021-11-01', '2021-11-09', '2021-12-06', '2021-12-08', '2021-10-09', '2021-10-31', '2021-09-30', '2021-11-09', '2021-12-13', '2021-10-26', '2021-12-09']    \n",
    "  \n",
    "Суммы покупок по датам:  \n",
    "[1270, 8413, 9028, 3703, 5739, 4095, 295, 4944, 5723, 3701, 4471, 651, 7037, 4274, 6275, 4988, 6930, 2971, 6592, 2004, 2822, 519, 3406, 2732, 5015, 2008, 316, 6333, 5700, 2887]"
   ]
  },
  {
   "cell_type": "code",
   "execution_count": 3,
   "id": "c0dace62",
   "metadata": {},
   "outputs": [],
   "source": [
    "purchase_date = ['2021-09-14', '2021-12-15', '2021-09-08', '2021-12-05', '2021-10-09',\\\n",
    "                 '2021-09-30', '2021-12-22', '2021-11-29', '2021-12-24', '2021-11-26',\\\n",
    "                 '2021-10-27', '2021-12-18', '2021-11-09', '2021-11-23', '2021-09-27',\\\n",
    "                 '2021-10-02', '2021-12-27', '2021-09-20', '2021-12-13', '2021-11-01',\\\n",
    "                 '2021-11-09', '2021-12-06', '2021-12-08', '2021-10-09', '2021-10-31',\\\n",
    "                 '2021-09-30', '2021-11-09', '2021-12-13', '2021-10-26', '2021-12-09']"
   ]
  },
  {
   "cell_type": "code",
   "execution_count": 4,
   "id": "354a098b",
   "metadata": {},
   "outputs": [],
   "source": [
    "purchase_value = [1270, 8413, 9028, 3703, 5739,\\\n",
    "                  4095, 295, 4944, 5723, 3701,\\\n",
    "                  4471, 651, 7037, 4274, 6275,\\\n",
    "                  4988, 6930, 2971, 6592, 2004,\\\n",
    "                  2822, 519, 3406, 2732, 5015,\\\n",
    "                  2008, 316, 6333, 5700, 2887]"
   ]
  },
  {
   "cell_type": "code",
   "execution_count": 5,
   "id": "24dc0dad",
   "metadata": {},
   "outputs": [],
   "source": [
    "months_dict = {\n",
    "    '1':'январе',\n",
    "    '2':'феврале',\n",
    "    '3':'марте',\n",
    "    '4':'апреле',\n",
    "    '5':'мае',\n",
    "    '6':'июне',\n",
    "    '7':'июле',\n",
    "    '8':'августе',\n",
    "    '9':'сентябре',\n",
    "    '10':'октябре',\n",
    "    '11':'ноябре',\n",
    "    '12':'декабре'\n",
    "}"
   ]
  },
  {
   "cell_type": "markdown",
   "id": "950dfa72",
   "metadata": {},
   "source": [
    "### Task 3.1.\n",
    "Найдите, какая выручка у компании в ноябре.  \n",
    "Используйте list comprehensions."
   ]
  },
  {
   "cell_type": "code",
   "execution_count": 6,
   "id": "2d71e733",
   "metadata": {},
   "outputs": [],
   "source": [
    "only_months = [d[5:-3] for d in purchase_date]"
   ]
  },
  {
   "cell_type": "code",
   "execution_count": 7,
   "id": "92503ed0",
   "metadata": {},
   "outputs": [],
   "source": [
    "sales = int()\n",
    "for i in range(len(purchase_value)):\n",
    "    if only_months[i] == '11':\n",
    "        sales += int(purchase_value[i])"
   ]
  },
  {
   "cell_type": "code",
   "execution_count": 8,
   "id": "590fce55",
   "metadata": {},
   "outputs": [
    {
     "name": "stdout",
     "output_type": "stream",
     "text": [
      "Выручка в ноябре = 25098 У.Е.\n"
     ]
    }
   ],
   "source": [
    "needed_month = months_dict['11']\n",
    "print(f'Выручка в {needed_month} = {sales} У.Е.')"
   ]
  },
  {
   "cell_type": "markdown",
   "id": "b19adcd8",
   "metadata": {},
   "source": [
    "### Task 3.2.\n",
    "Найдите выручку компании в зависимости от месяца.  \n",
    "Для этого напишите функцию, которая на вход принимает список с датами и список с выручкой, а на выходе словарь, где\n",
    "ключи - это месяцы, а значения - это выручка.  \n",
    "Используйте аннотирование типов."
   ]
  },
  {
   "cell_type": "code",
   "execution_count": 39,
   "id": "637d0631",
   "metadata": {},
   "outputs": [],
   "source": [
    "def sales_by_months(dates: list, sales: list) -> dict:\n",
    "    \n",
    "    months_nominative_dict = {\n",
    "    '01':'январь',\n",
    "    '02':'февраль',\n",
    "    '03':'март',\n",
    "    '04':'апрель',\n",
    "    '05':'май',\n",
    "    '06':'июнь',\n",
    "    '07':'июль',\n",
    "    '08':'август',\n",
    "    '09':'сентябрь',\n",
    "    '10':'октябрь',\n",
    "    '11':'ноябрь',\n",
    "    '12':'декабрь'\n",
    "    }  \n",
    "    \n",
    "    result = {}\n",
    "    only_months = [d[5:-3] for d in dates].copy()\n",
    "    result = dict.fromkeys(only_months, None)\n",
    "    result = dict(sorted(result.items()))\n",
    "\n",
    "    for key in result:\n",
    "        s = int()\n",
    "        for i in range(len(only_months)):\n",
    "            if key == only_months[i]:\n",
    "                s += int(sales[i])\n",
    "        result[key] = s\n",
    "       \n",
    "    for key in list(result):\n",
    "        if key in months_nominative_dict.keys():\n",
    "            i = months_nominative_dict.get(key)\n",
    "            result[i] = result.pop(key)\n",
    "    \n",
    "    for key,value in result.items(): print(key, ':', value)"
   ]
  },
  {
   "cell_type": "code",
   "execution_count": 40,
   "id": "1d385efd",
   "metadata": {},
   "outputs": [
    {
     "name": "stdout",
     "output_type": "stream",
     "text": [
      "сентябрь : 25647\n",
      "октябрь : 28645\n",
      "ноябрь : 25098\n",
      "декабрь : 45452\n"
     ]
    }
   ],
   "source": [
    "sales_by_months(dates = purchase_date, sales = purchase_value)"
   ]
  }
 ],
 "metadata": {
  "kernelspec": {
   "display_name": "Python 3 (ipykernel)",
   "language": "python",
   "name": "python3"
  },
  "language_info": {
   "codemirror_mode": {
    "name": "ipython",
    "version": 3
   },
   "file_extension": ".py",
   "mimetype": "text/x-python",
   "name": "python",
   "nbconvert_exporter": "python",
   "pygments_lexer": "ipython3",
   "version": "3.11.0"
  }
 },
 "nbformat": 4,
 "nbformat_minor": 5
}
